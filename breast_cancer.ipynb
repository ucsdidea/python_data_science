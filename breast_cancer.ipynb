{
 "cells": [
  {
   "cell_type": "markdown",
   "metadata": {},
   "source": [
    "# Breast cancer detection\n",
    "\n",
    "## Scenario\n",
    "You have been hired as a Data Scientist by a biotech startup that is developing sensors for early detection of breast cancer. During the startup's recent fundraising round, several investors asked whether the sensor performance could be further improved through the use of Deep Learning, \"big data\" and other such buzzwords. Which is where you come in.\n",
    "\n",
    "Before diving into more complicated techniques (which require significant more time and resources), you start by evaluating more common Machine Learning methods on public (and readily available) datasets. The goal is to provide a benchmark on baseline performance and to determine whether the concept is valid."
   ]
  },
  {
   "cell_type": "code",
   "execution_count": null,
   "metadata": {
    "collapsed": true
   },
   "outputs": [],
   "source": [
    "import numpy as np\n",
    "import matplotlib.pyplot as plt\n",
    "%matplotlib inline\n",
    "\n",
    "# scikit-learn\n",
    "from sklearn.datasets import load_breast_cancer\n",
    "from sklearn.preprocessing import StandardScaler\n",
    "from sklearn.model_selection import train_test_split\n",
    "from sklearn.metrics import accuracy_score\n",
    "\n",
    "# classifiers\n",
    "from sklearn.linear_model import LogisticRegression, RidgeClassifier, SGDClassifier\n",
    "from sklearn.svm import SVC, LinearSVC, NuSVC\n",
    "from sklearn.neural_network import MLPClassifier"
   ]
  },
  {
   "cell_type": "markdown",
   "metadata": {},
   "source": [
    "### Breast cancer data\n",
    "We'll load the breast cancer data that comes bundle with scikit-learn."
   ]
  },
  {
   "cell_type": "code",
   "execution_count": null,
   "metadata": {},
   "outputs": [],
   "source": [
    "# load breast cancer data\n",
    "# - X = (n_samples, n_features) feature array\n",
    "# - y = (n_samples) target vector\n",
    "X, y = load_breast_cancer(return_X_y=True)\n",
    "\n",
    "# get summary stats\n",
    "print(\"# of samples:\", X.shape[0])\n",
    "print(\"# of features:\", X.shape[1])"
   ]
  },
  {
   "cell_type": "markdown",
   "metadata": {},
   "source": [
    "### Pre-processing\n",
    "Before we train any models, we'll perform some standard pre-processing."
   ]
  },
  {
   "cell_type": "code",
   "execution_count": null,
   "metadata": {},
   "outputs": [],
   "source": [
    "# scale the data so it has a mean=0 and variance=1\n",
    "X = StandardScaler().fit_transform(X)\n",
    "\n",
    "# split the data into training and testing sets (60/40 split)\n",
    "X_train, X_test, y_train, y_test = train_test_split(X, y, test_size=0.4)\n",
    "print(\"# of samples (training):\", X_train.shape[0])\n",
    "print(\"# of samples (testing): \", X_test.shape[0])"
   ]
  },
  {
   "cell_type": "markdown",
   "metadata": {},
   "source": [
    "### Train classification model\n",
    "We'll start by training one of the most common classification methods: logistic regression."
   ]
  },
  {
   "cell_type": "code",
   "execution_count": null,
   "metadata": {},
   "outputs": [],
   "source": [
    "# Logistic Regression\n",
    "model = LogisticRegression()\n",
    "model.fit(X_train, y_train)\n",
    "print(\"Score (train): {:.3f}\".format(model.score(X_train, y_train)))\n",
    "print(\"Score (test):  {:.3f}\".format(model.score(X_test, y_test)))"
   ]
  },
  {
   "cell_type": "code",
   "execution_count": null,
   "metadata": {},
   "outputs": [],
   "source": [
    "# Ridge Classifier\n",
    "model = RidgeClassifier()\n",
    "model.fit(X_train, y_train)\n",
    "print(\"Score (train): {:.3f}\".format(model.score(X_train, y_train)))\n",
    "print(\"Score (test):  {:.3f}\".format(model.score(X_test, y_test)))"
   ]
  },
  {
   "cell_type": "code",
   "execution_count": null,
   "metadata": {},
   "outputs": [],
   "source": [
    "# SGD Classifier\n",
    "model = SGDClassifier(max_iter=100)\n",
    "model.fit(X_train, y_train)\n",
    "print(\"Score (train): {:.3f}\".format(model.score(X_train, y_train)))\n",
    "print(\"Score (test):  {:.3f}\".format(model.score(X_test, y_test)))"
   ]
  },
  {
   "cell_type": "code",
   "execution_count": null,
   "metadata": {},
   "outputs": [],
   "source": [
    "# Support Vector Machine (SVM)\n",
    "model = SVC()\n",
    "model.fit(X_train, y_train)\n",
    "print(\"Score (train): {:.3f}\".format(model.score(X_train, y_train)))\n",
    "print(\"Score (test):  {:.3f}\".format(model.score(X_test, y_test)))"
   ]
  },
  {
   "cell_type": "code",
   "execution_count": null,
   "metadata": {},
   "outputs": [],
   "source": [
    "# \n",
    "model = NuSVC()\n",
    "model.fit(X_train, y_train)\n",
    "print(\"Score (train): {:.3f}\".format(model.score(X_train, y_train)))\n",
    "print(\"Score (test):  {:.3f}\".format(model.score(X_test, y_test)))"
   ]
  },
  {
   "cell_type": "code",
   "execution_count": null,
   "metadata": {},
   "outputs": [],
   "source": [
    "# \n",
    "model = LinearSVC()\n",
    "model.fit(X_train, y_train)\n",
    "print(\"Score (train): {:.3f}\".format(model.score(X_train, y_train)))\n",
    "print(\"Score (test):  {:.3f}\".format(model.score(X_test, y_test)))"
   ]
  },
  {
   "cell_type": "code",
   "execution_count": null,
   "metadata": {},
   "outputs": [],
   "source": [
    "# Multi-Layer Perceptron (MLP), aka Artificial Neural Network (ANN)\n",
    "model = MLPClassifier(max_iter=500)\n",
    "model.fit(X_train, y_train)\n",
    "print(\"Score (train): {:.3f}\".format(model.score(X_train, y_train)))\n",
    "print(\"Score (test):  {:.3f}\".format(model.score(X_test, y_test)))"
   ]
  }
 ],
 "metadata": {
  "kernelspec": {
   "display_name": "Python 3",
   "language": "python",
   "name": "python3"
  },
  "language_info": {
   "codemirror_mode": {
    "name": "ipython",
    "version": 3
   },
   "file_extension": ".py",
   "mimetype": "text/x-python",
   "name": "python",
   "nbconvert_exporter": "python",
   "pygments_lexer": "ipython3",
   "version": "3.6.3"
  }
 },
 "nbformat": 4,
 "nbformat_minor": 2
}
