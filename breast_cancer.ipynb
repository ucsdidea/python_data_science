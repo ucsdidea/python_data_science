{
 "cells": [
  {
   "cell_type": "markdown",
   "metadata": {},
   "source": [
    "# Breast cancer detection\n",
    "\n",
    "## Scenario\n",
    "You have been hired as a Data Scientist by a biotech startup that is developing sensors for early detection of breast cancer. During the startup's recent fundraising round, several investors asked whether the sensor performance could be further improved through the use of Deep Learning, \"big data\" and other such buzzwords. Which is where you come in.\n",
    "\n",
    "Before diving into more complicated techniques (which require significant more time and resources), you start by evaluating more common Machine Learning methods to provide a benchmark on baseline performance."
   ]
  },
  {
   "cell_type": "code",
   "execution_count": null,
   "metadata": {
    "collapsed": true
   },
   "outputs": [],
   "source": [
    "import numpy as np\n",
    "import sklearn\n",
    "import matplotlib.pyplot as plt\n",
    "%matplotlib inline"
   ]
  }
 ],
 "metadata": {
  "kernelspec": {
   "display_name": "Python 3",
   "language": "python",
   "name": "python3"
  },
  "language_info": {
   "codemirror_mode": {
    "name": "ipython",
    "version": 3
   },
   "file_extension": ".py",
   "mimetype": "text/x-python",
   "name": "python",
   "nbconvert_exporter": "python",
   "pygments_lexer": "ipython3",
   "version": "3.6.3"
  }
 },
 "nbformat": 4,
 "nbformat_minor": 2
}
