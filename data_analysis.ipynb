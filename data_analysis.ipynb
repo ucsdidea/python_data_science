{
 "cells": [
  {
   "cell_type": "markdown",
   "metadata": {},
   "source": [
    "# Data Analysis\n",
    "\n",
    "- data files: read, format, meta info\n",
    "- visualization: line plot, scatter, histogram\n",
    "- statistics: min, max, mean, median\n",
    "- regression\n",
    "- classification\n",
    "\n",
    "Maybe break it down by discrete examples (e.g. one data file + one task per section). Examples:\n",
    "- comparing experimental vs theoretical results: Mass Transfer\n",
    "- summary statistics: energy/load data (e.g. CAISO load and weather)\n",
    "- data visualization: colormaps"
   ]
  },
  {
   "cell_type": "code",
   "execution_count": 1,
   "metadata": {
    "collapsed": true
   },
   "outputs": [],
   "source": [
    "# load required packages\n",
    "# - numpy: vectorized math functions\n",
    "# - matplotlib: plotting\n",
    "# - sklearn:\n",
    "\n",
    "# vectorized math functions\n",
    "import numpy as np\n",
    "import matplotlib.pyplot as plt\n",
    "%matplotlib inline"
   ]
  },
  {
   "cell_type": "markdown",
   "metadata": {},
   "source": [
    "## 1) Data files\n",
    "\n",
    "- common formats: CSV\n",
    "- reading data: using numpy\n",
    "\n",
    "Start with students opening the file with a text editor (to get a sense of how the data is organized/formatted).\n",
    "\n",
    "Then have students load the data.\n",
    "\n",
    "\n",
    "Data source:\n",
    "- Combined Cycle Power Plant Data Set\n",
    "- https://archive.ics.uci.edu/ml/datasets/Combined+Cycle+Power+Plant\n",
    "\n",
    "Columns:\n",
    "- 0: temperature (T) [deg C]\n",
    "- 1: ambient pressure (AP) [mbar]\n",
    "- 2: relative humidity (RH) [%]\n",
    "- 3: exhaust vacuum (V) [cm Hg]\n",
    "- 4: net hourly electrical energy output (EP) [MW]"
   ]
  },
  {
   "cell_type": "code",
   "execution_count": 17,
   "metadata": {},
   "outputs": [
    {
     "name": "stdout",
     "output_type": "stream",
     "text": [
      "(9568, 5)\n"
     ]
    },
    {
     "data": {
      "image/png": "[encoded data removed]",
      "text/plain": [
       "<matplotlib.figure.Figure at 0x1085b6dd8>"
      ]
     },
     "metadata": {},
     "output_type": "display_data"
    }
   ],
   "source": [
    "# load data\n",
    "data = np.genfromtxt('combined_cycle.csv', delimiter=',',\n",
    "                     skip_header=1)\n",
    "print(data.shape)\n",
    "\n",
    "# split data\n",
    "T = data[:, 0]\n",
    "AP = data[:, 1]\n",
    "RH = data[:, 2]\n",
    "V = data[:, 3]\n",
    "EP = data[:, 4]\n",
    "\n",
    "plt.scatter(T, EP)\n",
    "plt.xlabel('T [deg C]')\n",
    "plt.ylabel('EP [MW]')\n",
    "plt.show()"
   ]
  }
 ],
 "metadata": {
  "kernelspec": {
   "display_name": "Python 3",
   "language": "python",
   "name": "python3"
  },
  "language_info": {
   "codemirror_mode": {
    "name": "ipython",
    "version": 3
   },
   "file_extension": ".py",
   "mimetype": "text/x-python",
   "name": "python",
   "nbconvert_exporter": "python",
   "pygments_lexer": "ipython3",
   "version": "3.5.4"
  }
 },
 "nbformat": 4,
 "nbformat_minor": 2
}
