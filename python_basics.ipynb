{
 "cells": [
  {
   "cell_type": "markdown",
   "metadata": {},
   "source": [
    "# Python basics\n",
    "A brief review of Python syntax and Jupyter Notebooks."
   ]
  },
  {
   "cell_type": "markdown",
   "metadata": {},
   "source": [
    "## Running code\n",
    "To run code in Jupyter Notebook, you click inside a code cell and then either:\n",
    "- a) click the \"play\" button in the menu bar\n",
    "- b) use a keyboard shortcut: Ctrl+Enter or Shift+Enter\n",
    "- c) click Cell >> Run Cells in the top menu bar\n",
    "\n",
    "Click inside the code cell below (that says ``print(\"Hello World!\")``) and run the code."
   ]
  },
  {
   "cell_type": "code",
   "execution_count": null,
   "metadata": {},
   "outputs": [],
   "source": [
    "print(\"Hello World!\")"
   ]
  },
  {
   "cell_type": "markdown",
   "metadata": {},
   "source": [
    "Great! You are now a Python programmer!\n",
    "\n",
    "...Well, there might be a little bit more to it than that..."
   ]
  },
  {
   "cell_type": "markdown",
   "metadata": {},
   "source": [
    "## Python syntax\n",
    "Let's go through the basic Python syntax:\n",
    "- comments\n",
    "- math\n",
    "- variables\n",
    "- loops"
   ]
  },
  {
   "cell_type": "code",
   "execution_count": null,
   "metadata": {},
   "outputs": [],
   "source": [
    "# Python uses # to comment out lines\n",
    "print(\"This line shows up\")\n",
    "\n",
    "# print(\"But this line doesn't, since it is commented out by a # symbol\")"
   ]
  },
  {
   "cell_type": "code",
   "execution_count": null,
   "metadata": {},
   "outputs": [],
   "source": [
    "# Python 3.x supports more than just ASCII characters\n",
    "print(\"My face when a student calls a # a hastag: (ಠ_ಠ)\")\n",
    "\n",
    "#print(\"This kind of looks like a dog: (❍ᴥ❍ʋ)\")\n",
    "\n",
    "#print(\"And here's a dancing one: ヽ(⌐■_■)ノ♪♬\")"
   ]
  },
  {
   "cell_type": "markdown",
   "metadata": {},
   "source": [
    "### Math operations\n",
    "The base math operations are:\n",
    "- $+$ = addition\n",
    "- $-$ = subtraction\n",
    "- $*$ = multiplication\n",
    "- / = division\n",
    "- $**$ = raised to a power\n",
    "\n",
    "Try them out below."
   ]
  },
  {
   "cell_type": "code",
   "execution_count": null,
   "metadata": {},
   "outputs": [],
   "source": [
    "2 * 2"
   ]
  },
  {
   "cell_type": "code",
   "execution_count": null,
   "metadata": {},
   "outputs": [],
   "source": [
    "# the current year minus ten years\n",
    "???"
   ]
  },
  {
   "cell_type": "code",
   "execution_count": null,
   "metadata": {},
   "outputs": [],
   "source": [
    "# three squared\n",
    "???"
   ]
  },
  {
   "cell_type": "code",
   "execution_count": null,
   "metadata": {
    "collapsed": true
   },
   "outputs": [],
   "source": [
    "# something else\n",
    "???"
   ]
  },
  {
   "cell_type": "markdown",
   "metadata": {},
   "source": [
    "### Variables\n",
    "As with the rest of the Python syntax, defining variables requires minimal code."
   ]
  },
  {
   "cell_type": "code",
   "execution_count": null,
   "metadata": {},
   "outputs": [],
   "source": [
    "# create a variable \"x\" and assign it a value\n",
    "x = 5\n",
    "print(x)"
   ]
  },
  {
   "cell_type": "code",
   "execution_count": null,
   "metadata": {},
   "outputs": [],
   "source": [
    "# assign a variable to hold the value of the acceleration due \n",
    "# to gravity on Earth (9.81 m/s^2)\n",
    "gravity = 9.81\n",
    "print(gravity)"
   ]
  },
  {
   "cell_type": "code",
   "execution_count": null,
   "metadata": {
    "collapsed": true
   },
   "outputs": [],
   "source": [
    "# calculate the potential energy (PE) of a 2 kg bowling ball dropped\n",
    "# from the top of Jacobs Hall\n",
    "#\n",
    "# Knowns:\n",
    "# - PE = mass * gravity * height\n",
    "# - mass = 2 kg\n",
    "# - gravity = 9.81 m/s^2\n",
    "# - height = ??? m\n",
    "\n",
    "# define the three variables\n",
    "\n",
    "# mass of the bowling ball [kg]\n",
    "m = ???\n",
    "\n",
    "# gravity [m/s^2]\n",
    "g = ???\n",
    "\n",
    "# height of Jacobs Hall [m]\n",
    "h = ???\n",
    "\n",
    "# calculate the PE [J]\n",
    "PE = ???\n",
    "\n",
    "print(PE)"
   ]
  }
 ],
 "metadata": {
  "kernelspec": {
   "display_name": "Python 3",
   "language": "python",
   "name": "python3"
  },
  "language_info": {
   "codemirror_mode": {
    "name": "ipython",
    "version": 3
   },
   "file_extension": ".py",
   "mimetype": "text/x-python",
   "name": "python",
   "nbconvert_exporter": "python",
   "pygments_lexer": "ipython3",
   "version": "3.6.3"
  }
 },
 "nbformat": 4,
 "nbformat_minor": 2
}
