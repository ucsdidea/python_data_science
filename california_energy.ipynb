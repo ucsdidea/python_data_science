{
 "cells": [
  {
   "cell_type": "markdown",
   "metadata": {},
   "source": [
    "# California Energy Usage\n",
    "\n",
    "## Scenario\n",
    "You have been hired as a Data Scientist for a large-scale battery manufacturer, who is considering expanding their business to customers in California. Your first task is to provide an overview of the state of the California electric grid, with a focus on data driven analyses. Based on this analysis, you may be asked to then make recommendations on which areas of California to focus on or types of customers to target with advertisements (e.g. residential vs. commercial and industrial).\n",
    "\n",
    "Based on a tip from a colleague, you start by looking into publically available data from the California Independent System Operator (CAISO), which oversees the majority of the California electrical power system."
   ]
  },
  {
   "cell_type": "code",
   "execution_count": null,
   "metadata": {
    "collapsed": true
   },
   "outputs": [],
   "source": [
    "# load required packages\n",
    "# - numpy: vectorized math functions\n",
    "# - matplotlib: plotting\n",
    "# - pandas: data manipulation\n",
    "# - seaborn: improved plot formatting and additional plotting functions\n",
    "\n",
    "import numpy as np\n",
    "import pandas as pd\n",
    "import matplotlib.pyplot as plt\n",
    "%matplotlib inline\n",
    "import seaborn as sns\n",
    "\n",
    "# make the code compatible with both Python 2 and 3\n",
    "from __future__ import print_function, division"
   ]
  },
  {
   "cell_type": "markdown",
   "metadata": {},
   "source": [
    "## Hourly Demand\n",
    "You quickly find that CAISO publishes historical hourly load data on its website: http://www.caiso.com/planning/Pages/ReliabilityRequirements/Default.aspx#Historical\n",
    "\n",
    "A copy of the 2014-2016 hourly load data has been included with this notebook (see \"caiso_historical.csv\").\n",
    "\n",
    "**Questions:**\n",
    "1. What data is included in the file?\n",
    "2. How is the data organized?\n",
    "3. Are there any oddities in the data (e.g. corrupted values or inconsistent units)?\n",
    "\n",
    "*Hint:* With text-based data files, it's usually a good idea to start by inspecting the data with a text editor (Notepad++, Sublime, Atom, etc.).\n",
    "\n",
    "After you get some sense of the data file (variables, organization, etc.), we can move into trying to load the data. For that, we'll make use of the pandas package (although you could use the Python stdlib or other packages, e.g., numpy)."
   ]
  },
  {
   "cell_type": "code",
   "execution_count": null,
   "metadata": {
    "collapsed": true
   },
   "outputs": [],
   "source": [
    "# load the hourly demand [MW] data as a pandas DataFrame object\n",
    "df = pd.read_csv('caiso_historical.csv',delimiter=',',\n",
    "                 parse_dates=True,   # parse the timestamps\n",
    "                 index_col=0         # use the timestamps as the index\n",
    ")\n",
    "\n",
    "# check how much data we have\n",
    "print(df.shape)\n",
    "\n",
    "# verify that the data looks \"correct\"\n",
    "print(df.head())"
   ]
  },
  {
   "cell_type": "markdown",
   "metadata": {},
   "source": [
    "## Quick time-series visualization\n",
    "Now that we've got the data loaded, let's try a few quick plots."
   ]
  },
  {
   "cell_type": "code",
   "execution_count": null,
   "metadata": {
    "collapsed": true
   },
   "outputs": [],
   "source": [
    "# pandas has some standard plot functions built-in\n",
    "df.plot()\n",
    "plt.show()"
   ]
  },
  {
   "cell_type": "markdown",
   "metadata": {},
   "source": [
    "**Question:** What are the units of the load data? The data file doesn't list units, but you should be able to guess based on information from the CAISO website: http://www.caiso.com/outlook.html"
   ]
  },
  {
   "cell_type": "markdown",
   "metadata": {},
   "source": [
    "## Summary statistics\n",
    "The next obvious thing to try is to look at some summary statistics of the data (e.g. min, mean and max values of each variable)."
   ]
  },
  {
   "cell_type": "code",
   "execution_count": null,
   "metadata": {
    "collapsed": true
   },
   "outputs": [],
   "source": [
    "# get summary statistics of the data\n",
    "print(df.describe())"
   ]
  },
  {
   "cell_type": "markdown",
   "metadata": {},
   "source": [
    "**Question:** Do you notice anything in the summary statistics? Alternatively, is there anything \"missing\" from the summary statistics (i.e. other info you wish you had)?"
   ]
  },
  {
   "cell_type": "markdown",
   "metadata": {},
   "source": [
    "## Effect of time of day\n",
    "Since we're looking at an electric grid, it's natural to want to understand the effect of time on the variables. Let's start with looking at the hourly load as a function of the hour of the day."
   ]
  },
  {
   "cell_type": "code",
   "execution_count": null,
   "metadata": {
    "collapsed": true
   },
   "outputs": [],
   "source": [
    "# We could write custom code, but instead we'll leverage some of the\n",
    "# built-in functionality available in pandas. Specifically, we'll use\n",
    "# the ``groupby`` function to automatically cluster the data.\n",
    "#\n",
    "\n",
    "# get CAISO total load as a function of the hour of the day\n",
    "load_mean = df['CAISO'].groupby(df.index.hour).mean()\n",
    "load_std = df['CAISO'].groupby(df.index.hour).mean()\n",
    "\n",
    "# compare loud by hour of the day\n",
    "hours = range(24)\n",
    "plt.figure(figsize=(8, 8))\n",
    "plt.errorbar(hours, load_mean, yerr=load_std)\n",
    "plt.xlabel('Hour of the day')\n",
    "plt.ylabel('Load [???]')\n",
    "plt.show()"
   ]
  },
  {
   "cell_type": "markdown",
   "metadata": {},
   "source": [
    "**Question:** What does looking at data by the hour of the day tells us?\n",
    "\n",
    "**Task:** Now try the same analysis on the load data for each utility (PGE, SCE, SDGE and VEA) and compare."
   ]
  },
  {
   "cell_type": "code",
   "execution_count": null,
   "metadata": {
    "collapsed": true
   },
   "outputs": [],
   "source": [
    "# (put your code here)\n"
   ]
  },
  {
   "cell_type": "markdown",
   "metadata": {},
   "source": [
    "## Effect of time of week\n",
    "Now let's look at how the time of the week effects the data (e.g. weekday vs weekend). We'll aim to make the same plots as before, but this time we'll group by the day of the week."
   ]
  },
  {
   "cell_type": "code",
   "execution_count": null,
   "metadata": {
    "collapsed": true
   },
   "outputs": [],
   "source": [
    "# get load by the day of the week\n",
    "load_mean = df['???'].groupby(df.index.dayofweek).mean()\n",
    "load_std = ???\n",
    "\n",
    "# plot\n",
    "days = range(7)\n",
    "plt.figure(figsize=(???, ???))\n",
    "plt.errorbar(???)\n",
    "plt.show()"
   ]
  },
  {
   "cell_type": "markdown",
   "metadata": {},
   "source": [
    "**Question:** What does looking at data by the day of the week tell us?\n",
    "\n",
    "**Task:** Now try the same analysis on the load data for each utility (PGE, SCE, SDGE and VEA) and compare."
   ]
  },
  {
   "cell_type": "markdown",
   "metadata": {},
   "source": [
    "## Advanced visualization\n",
    "Now that we have some initial understanding of the effects of time on the load data, let's try to make a couple polished figures. For this, we'll leverage the seaborn package, which provides some advanced features not found in the base matplotlib package."
   ]
  },
  {
   "cell_type": "code",
   "execution_count": null,
   "metadata": {
    "collapsed": true
   },
   "outputs": [],
   "source": [
    "# violinplots are a nice way to compare distributions\n",
    "sns.violinplot(data=df, x=df.index.year, y='CAISO')\n",
    "plt.xlabel('???')\n",
    "plt.ylabel('CAISO Total Load [MW]')\n",
    "plt.show()"
   ]
  },
  {
   "cell_type": "markdown",
   "metadata": {},
   "source": [
    "**Discussion:** What do the violinplots tell us about how the load for each year changes? What don't the plots tell us?"
   ]
  },
  {
   "cell_type": "code",
   "execution_count": null,
   "metadata": {
    "collapsed": true
   },
   "outputs": [],
   "source": [
    "# let's try using violinplots to look at another time variable: hour of the day\n",
    "plt.figure(figsize=(12, 4))\n",
    "sns.violinplot(data=df, x=df.index.hour, y='CAISO', inner=None)\n",
    "plt.xlabel('???')\n",
    "plt.ylabel('CAISO Total Load [MW]')\n",
    "\n",
    "# save figure as a high-res PNG\n",
    "plt.savefig('caiso_load_hour.png', dpi=200, bbox_inches='tight')\n",
    "\n",
    "plt.show()"
   ]
  },
  {
   "cell_type": "markdown",
   "metadata": {
    "collapsed": true
   },
   "source": [
    "**Discussion:** What can we infer from this figure? What do we still not know? Are there other visualizations that could provide additional useful info?"
   ]
  },
  {
   "cell_type": "markdown",
   "metadata": {},
   "source": [
    "### Ramp rates\n",
    "As part of your due diligence for the project, you meet with one of your colleagues who focuses on the policy aspect of battery energy storage. They recommend you take a look at the prevalence and size of the ramp rates (changes in load per time step) in California. A selling point for batteries (compared to other storage technolgies) is their ability to more rapidly respond to ramp events. If you can pin-point areas with large ramps, you can narrow down the search for potential customers.\n",
    "\n",
    "Since you have hourly load data, you can start by focusing on hourly ramp rates [MW/h]."
   ]
  },
  {
   "cell_type": "code",
   "execution_count": null,
   "metadata": {
    "collapsed": true
   },
   "outputs": [],
   "source": [
    "# we'll use finite differences to get the hourly ramp rates [MW/h]\n",
    "ramps = df['CAISO'].diff()\n",
    "\n",
    "# visually inspect the ramp rates\n",
    "plt.figure(figsize=(10, 6))\n",
    "ramps.plot()\n",
    "plt.ylabel('Ramp rate [MW/h]')\n",
    "plt.show()"
   ]
  },
  {
   "cell_type": "markdown",
   "metadata": {},
   "source": [
    "**Discussion:** How can we better summarize the ramp rates? Is there a way to check the prevalence of ramps of different magnitudes? Are ramps of different magnitudes equally likely (e.g. 1 MW/h vs. 1000 MW/h)? And when do the ramps occur?"
   ]
  },
  {
   "cell_type": "markdown",
   "metadata": {},
   "source": [
    "### Next steps\n",
    "Can you think of other questions that we should be asking? Which ones can be answered with data? Also, what other types of data could be useful for this topic (e.g. historical temperature or info on the amount of installed solar capacity)?"
   ]
  }
 ],
 "metadata": {
  "kernelspec": {
   "display_name": "Python 3",
   "language": "python",
   "name": "python3"
  },
  "language_info": {
   "codemirror_mode": {
    "name": "ipython",
    "version": 3
   },
   "file_extension": ".py",
   "mimetype": "text/x-python",
   "name": "python",
   "nbconvert_exporter": "python",
   "pygments_lexer": "ipython3",
   "version": "3.5.4"
  }
 },
 "nbformat": 4,
 "nbformat_minor": 2
}
